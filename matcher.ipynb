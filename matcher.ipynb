{
 "cells": [
  {
   "cell_type": "code",
   "execution_count": 1,
   "metadata": {},
   "outputs": [],
   "source": [
    "from fuzzywuzzy import fuzz\n",
    "import spacy"
   ]
  },
  {
   "cell_type": "code",
   "execution_count": 2,
   "metadata": {},
   "outputs": [
    {
     "name": "stderr",
     "output_type": "stream",
     "text": [
      "[nltk_data] Downloading package omw-1.4 to\n",
      "[nltk_data]     C:\\Users\\user\\AppData\\Roaming\\nltk_data...\n",
      "[nltk_data]   Package omw-1.4 is already up-to-date!\n"
     ]
    },
    {
     "name": "stdout",
     "output_type": "stream",
     "text": [
      "WARNING:tensorflow:From d:\\PROJECTS\\Service for Elasticsearch\\araks_venv\\lib\\site-packages\\keras\\src\\losses.py:2976: The name tf.losses.sparse_softmax_cross_entropy is deprecated. Please use tf.compat.v1.losses.sparse_softmax_cross_entropy instead.\n",
      "\n"
     ]
    },
    {
     "name": "stderr",
     "output_type": "stream",
     "text": [
      "d:\\PROJECTS\\Service for Elasticsearch\\araks_venv\\lib\\site-packages\\torchvision\\io\\image.py:13: UserWarning: Failed to load image Python extension: [WinError 127] The specified procedure could not be found\n",
      "  warn(f\"Failed to load image Python extension: {e}\")\n",
      "[nltk_data] Downloading package omw-1.4 to\n",
      "[nltk_data]     C:\\Users\\user\\AppData\\Roaming\\nltk_data...\n",
      "[nltk_data]   Package omw-1.4 is already up-to-date!\n"
     ]
    }
   ],
   "source": [
    "nlp = spacy.load(\"en_core_web_sm\")"
   ]
  },
  {
   "cell_type": "code",
   "execution_count": 3,
   "metadata": {},
   "outputs": [],
   "source": [
    "async def fuzzy_similar(a, b):\n",
    "    return (fuzz.token_sort_ratio(a, b) + fuzz.partial_token_set_ratio(a, b)) / 2"
   ]
  },
  {
   "cell_type": "code",
   "execution_count": 4,
   "metadata": {},
   "outputs": [],
   "source": [
    "async def exact_similar(a, b):\n",
    "    return (sorted(a.lower().split()) == sorted(b.lower().split()))"
   ]
  },
  {
   "cell_type": "code",
   "execution_count": 5,
   "metadata": {},
   "outputs": [],
   "source": [
    "source_props = [\"Danoyan\", \"Yerevan 15 Armenia\"]\n",
    "target_props = [\"15 Yerevan Armenia\", \"Armen Danoyan\"]"
   ]
  },
  {
   "cell_type": "code",
   "execution_count": 6,
   "metadata": {},
   "outputs": [
    {
     "data": {
      "text/plain": [
       "0.750638044548437"
      ]
     },
     "execution_count": 6,
     "metadata": {},
     "output_type": "execute_result"
    }
   ],
   "source": [
    "nlp(source_props[0]).similarity(nlp(target_props[1]))"
   ]
  },
  {
   "cell_type": "code",
   "execution_count": 69,
   "metadata": {},
   "outputs": [],
   "source": [
    "async def match(source, target, method):\n",
    "    if method == \"fuzzy\":\n",
    "                ratio = await fuzzy_similar(source['name'], target['name'])\n",
    "                if ratio > 80:\n",
    "                    return source['id'], target['id']\n",
    "                    \n",
    "    elif method == \"exact\":\n",
    "                ratio = await exact_similar(source['name'], target['name'])\n",
    "                if ratio:\n",
    "                    return source['id'], target['id']"
   ]
  },
  {
   "cell_type": "code",
   "execution_count": 93,
   "metadata": {},
   "outputs": [],
   "source": [
    "data = [{\"source\" : [{\"name\" : \"Yerevan 15 Armenia\", \"id\" : 0}], \"target\" : [{\"name\" : \"15 Yerevan Armenia\", \"id\" : 1}], \"method\" : \"fuzzy\"}, {\"source\" : [{\"name\" : \"Danoyan Armen\", \"id\" : 2}], \"target\" : [{\"name\" : \"Armen   Danoyan\", \"id\" : 3}], \"method\" : \"exact\"}]"
   ]
  },
  {
   "cell_type": "code",
   "execution_count": 94,
   "metadata": {},
   "outputs": [],
   "source": [
    "import asyncio\n",
    "\n",
    "async def process_relations(rel_data):\n",
    "    \n",
    "    matched_ids = []\n",
    "    \n",
    "    for rel in rel_data:\n",
    "        sources = rel[\"source\"]\n",
    "        targets = rel[\"target\"]\n",
    "        method = rel[\"method\"]\n",
    "        \n",
    "        tasks = [match(source, target, method) for source in sources for target in targets]\n",
    "        results = await asyncio.gather(*tasks)\n",
    "        \n",
    "        matched_ids.extend(results)\n",
    "    \n",
    "    return matched_ids"
   ]
  },
  {
   "cell_type": "code",
   "execution_count": 95,
   "metadata": {},
   "outputs": [
    {
     "data": {
      "text/plain": [
       "[(0, 1), (2, 3)]"
      ]
     },
     "execution_count": 95,
     "metadata": {},
     "output_type": "execute_result"
    }
   ],
   "source": [
    "await process_relations(data)"
   ]
  }
 ],
 "metadata": {
  "kernelspec": {
   "display_name": "araks_venv",
   "language": "python",
   "name": "python3"
  },
  "language_info": {
   "codemirror_mode": {
    "name": "ipython",
    "version": 3
   },
   "file_extension": ".py",
   "mimetype": "text/x-python",
   "name": "python",
   "nbconvert_exporter": "python",
   "pygments_lexer": "ipython3",
   "version": "3.10.6"
  }
 },
 "nbformat": 4,
 "nbformat_minor": 2
}
