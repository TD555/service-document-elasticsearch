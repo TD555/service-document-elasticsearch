{
 "cells": [
  {
   "cell_type": "code",
   "execution_count": 132,
   "metadata": {},
   "outputs": [],
   "source": [
    "from fuzzywuzzy import fuzz\n",
    "import spacy\n",
    "from difflib import SequenceMatcher as SM"
   ]
  },
  {
   "cell_type": "code",
   "execution_count": 47,
   "metadata": {},
   "outputs": [],
   "source": [
    "nlp = spacy.load(\"en_core_web_sm\")"
   ]
  },
  {
   "cell_type": "code",
   "execution_count": 187,
   "metadata": {},
   "outputs": [],
   "source": [
    "async def fuzzy_similar(a, b):\n",
    "    return (fuzz.token_sort_ratio(a, b) + fuzz.partial_token_set_ratio(a, b)) / 2"
   ]
  },
  {
   "cell_type": "code",
   "execution_count": 222,
   "metadata": {},
   "outputs": [],
   "source": [
    "async def exact_similar(a, b):\n",
    "    return (sorted(a.lower().split()) == sorted(b.lower().split()))"
   ]
  },
  {
   "cell_type": "code",
   "execution_count": 210,
   "metadata": {},
   "outputs": [],
   "source": [
    "source_props = [\"Danoyan\", \"Yerevan 15 Armenia\"]\n",
    "target_props = [\"15 Yerevan Armenia\", \"Armen Danoyan\"]"
   ]
  },
  {
   "cell_type": "code",
   "execution_count": 211,
   "metadata": {},
   "outputs": [
    {
     "data": {
      "text/plain": [
       "0.750638044548437"
      ]
     },
     "execution_count": 211,
     "metadata": {},
     "output_type": "execute_result"
    }
   ],
   "source": [
    "nlp(source_props[0]).similarity(nlp(target_props[1]))"
   ]
  },
  {
   "cell_type": "code",
   "execution_count": 224,
   "metadata": {},
   "outputs": [
    {
     "name": "stdout",
     "output_type": "stream",
     "text": [
      "Yerevan 15 Armenia 15 Yerevan Armenia True\n"
     ]
    }
   ],
   "source": [
    "if method == \"fuzzy\":\n",
    "    for source in source_props:\n",
    "        for target in target_props:\n",
    "            ratio = await fuzzy_similar(source, target)\n",
    "            if ratio > 80:\n",
    "                print(source, target, ratio)"
   ]
  },
  {
   "cell_type": "code",
   "execution_count": null,
   "metadata": {},
   "outputs": [],
   "source": [
    "[{\"source\" : [\"1,2,3,4,5\"], \"target\" : [\"1,5\"], \"method\" : \"fuzzy\"}]"
   ]
  },
  {
   "cell_type": "code",
   "execution_count": 221,
   "metadata": {},
   "outputs": [
    {
     "name": "stdout",
     "output_type": "stream",
     "text": [
      "True\n"
     ]
    }
   ],
   "source": [
    "from sympy import ordered\n",
    "\n",
    "\n",
    "string1 = \"This is a  sample string\"\n",
    "string2 = \"This is a string Sample\"\n",
    "\n",
    "# Split strings into lists of words\n",
    "words1 = string1.lower().split()\n",
    "words2 = string2.lower().split()\n",
    "\n",
    "print(sorted(string1.lower().split()) == sorted(string2.lower().split()))"
   ]
  }
 ],
 "metadata": {
  "kernelspec": {
   "display_name": "araks_venv",
   "language": "python",
   "name": "python3"
  },
  "language_info": {
   "codemirror_mode": {
    "name": "ipython",
    "version": 3
   },
   "file_extension": ".py",
   "mimetype": "text/x-python",
   "name": "python",
   "nbconvert_exporter": "python",
   "pygments_lexer": "ipython3",
   "version": "3.10.6"
  }
 },
 "nbformat": 4,
 "nbformat_minor": 2
}
