{
 "cells": [
  {
   "cell_type": "code",
   "execution_count": 26,
   "metadata": {},
   "outputs": [
    {
     "name": "stdout",
     "output_type": "stream",
     "text": [
      "Requirement already satisfied: fuzzywuzzy in c:\\projects\\service-document-elasticsearch\\araks_venv\\lib\\site-packages (0.18.0)\n",
      "Requirement already satisfied: spacy in c:\\projects\\service-document-elasticsearch\\araks_venv\\lib\\site-packages (3.7.2)\n",
      "Requirement already satisfied: spacy-legacy<3.1.0,>=3.0.11 in c:\\projects\\service-document-elasticsearch\\araks_venv\\lib\\site-packages (from spacy) (3.0.12)\n",
      "Requirement already satisfied: packaging>=20.0 in c:\\projects\\service-document-elasticsearch\\araks_venv\\lib\\site-packages (from spacy) (23.2)\n",
      "Requirement already satisfied: requests<3.0.0,>=2.13.0 in c:\\projects\\service-document-elasticsearch\\araks_venv\\lib\\site-packages (from spacy) (2.31.0)\n",
      "Requirement already satisfied: wasabi<1.2.0,>=0.9.1 in c:\\projects\\service-document-elasticsearch\\araks_venv\\lib\\site-packages (from spacy) (1.1.2)\n",
      "Requirement already satisfied: pydantic!=1.8,!=1.8.1,<3.0.0,>=1.7.4 in c:\\projects\\service-document-elasticsearch\\araks_venv\\lib\\site-packages (from spacy) (2.5.2)\n",
      "Requirement already satisfied: typer<0.10.0,>=0.3.0 in c:\\projects\\service-document-elasticsearch\\araks_venv\\lib\\site-packages (from spacy) (0.9.0)\n",
      "Requirement already satisfied: murmurhash<1.1.0,>=0.28.0 in c:\\projects\\service-document-elasticsearch\\araks_venv\\lib\\site-packages (from spacy) (1.0.10)\n",
      "Requirement already satisfied: setuptools in c:\\projects\\service-document-elasticsearch\\araks_venv\\lib\\site-packages (from spacy) (63.2.0)\n",
      "Requirement already satisfied: cymem<2.1.0,>=2.0.2 in c:\\projects\\service-document-elasticsearch\\araks_venv\\lib\\site-packages (from spacy) (2.0.8)\n",
      "Requirement already satisfied: srsly<3.0.0,>=2.4.3 in c:\\projects\\service-document-elasticsearch\\araks_venv\\lib\\site-packages (from spacy) (2.4.8)\n",
      "Requirement already satisfied: catalogue<2.1.0,>=2.0.6 in c:\\projects\\service-document-elasticsearch\\araks_venv\\lib\\site-packages (from spacy) (2.0.10)\n",
      "Requirement already satisfied: jinja2 in c:\\projects\\service-document-elasticsearch\\araks_venv\\lib\\site-packages (from spacy) (3.1.2)\n",
      "Requirement already satisfied: smart-open<7.0.0,>=5.2.1 in c:\\projects\\service-document-elasticsearch\\araks_venv\\lib\\site-packages (from spacy) (6.4.0)\n",
      "Requirement already satisfied: spacy-loggers<2.0.0,>=1.0.0 in c:\\projects\\service-document-elasticsearch\\araks_venv\\lib\\site-packages (from spacy) (1.0.5)\n",
      "Requirement already satisfied: tqdm<5.0.0,>=4.38.0 in c:\\projects\\service-document-elasticsearch\\araks_venv\\lib\\site-packages (from spacy) (4.66.1)\n",
      "Requirement already satisfied: thinc<8.3.0,>=8.1.8 in c:\\projects\\service-document-elasticsearch\\araks_venv\\lib\\site-packages (from spacy) (8.2.1)\n",
      "Requirement already satisfied: numpy>=1.19.0 in c:\\projects\\service-document-elasticsearch\\araks_venv\\lib\\site-packages (from spacy) (1.26.2)\n",
      "Requirement already satisfied: langcodes<4.0.0,>=3.2.0 in c:\\projects\\service-document-elasticsearch\\araks_venv\\lib\\site-packages (from spacy) (3.3.0)\n",
      "Requirement already satisfied: weasel<0.4.0,>=0.1.0 in c:\\projects\\service-document-elasticsearch\\araks_venv\\lib\\site-packages (from spacy) (0.3.4)\n",
      "Requirement already satisfied: preshed<3.1.0,>=3.0.2 in c:\\projects\\service-document-elasticsearch\\araks_venv\\lib\\site-packages (from spacy) (3.0.9)\n",
      "Requirement already satisfied: typing-extensions>=4.6.1 in c:\\projects\\service-document-elasticsearch\\araks_venv\\lib\\site-packages (from pydantic!=1.8,!=1.8.1,<3.0.0,>=1.7.4->spacy) (4.8.0)\n",
      "Requirement already satisfied: annotated-types>=0.4.0 in c:\\projects\\service-document-elasticsearch\\araks_venv\\lib\\site-packages (from pydantic!=1.8,!=1.8.1,<3.0.0,>=1.7.4->spacy) (0.6.0)\n",
      "Requirement already satisfied: pydantic-core==2.14.5 in c:\\projects\\service-document-elasticsearch\\araks_venv\\lib\\site-packages (from pydantic!=1.8,!=1.8.1,<3.0.0,>=1.7.4->spacy) (2.14.5)\n",
      "Requirement already satisfied: certifi>=2017.4.17 in c:\\projects\\service-document-elasticsearch\\araks_venv\\lib\\site-packages (from requests<3.0.0,>=2.13.0->spacy) (2023.11.17)\n",
      "Requirement already satisfied: charset-normalizer<4,>=2 in c:\\projects\\service-document-elasticsearch\\araks_venv\\lib\\site-packages (from requests<3.0.0,>=2.13.0->spacy) (3.3.2)\n",
      "Requirement already satisfied: urllib3<3,>=1.21.1 in c:\\projects\\service-document-elasticsearch\\araks_venv\\lib\\site-packages (from requests<3.0.0,>=2.13.0->spacy) (2.1.0)\n",
      "Requirement already satisfied: idna<4,>=2.5 in c:\\projects\\service-document-elasticsearch\\araks_venv\\lib\\site-packages (from requests<3.0.0,>=2.13.0->spacy) (3.6)\n",
      "Requirement already satisfied: confection<1.0.0,>=0.0.1 in c:\\projects\\service-document-elasticsearch\\araks_venv\\lib\\site-packages (from thinc<8.3.0,>=8.1.8->spacy) (0.1.4)\n",
      "Requirement already satisfied: blis<0.8.0,>=0.7.8 in c:\\projects\\service-document-elasticsearch\\araks_venv\\lib\\site-packages (from thinc<8.3.0,>=8.1.8->spacy) (0.7.11)\n",
      "Requirement already satisfied: colorama in c:\\projects\\service-document-elasticsearch\\araks_venv\\lib\\site-packages (from tqdm<5.0.0,>=4.38.0->spacy) (0.4.6)\n",
      "Requirement already satisfied: click<9.0.0,>=7.1.1 in c:\\projects\\service-document-elasticsearch\\araks_venv\\lib\\site-packages (from typer<0.10.0,>=0.3.0->spacy) (8.1.7)\n",
      "Requirement already satisfied: cloudpathlib<0.17.0,>=0.7.0 in c:\\projects\\service-document-elasticsearch\\araks_venv\\lib\\site-packages (from weasel<0.4.0,>=0.1.0->spacy) (0.16.0)\n",
      "Requirement already satisfied: MarkupSafe>=2.0 in c:\\projects\\service-document-elasticsearch\\araks_venv\\lib\\site-packages (from jinja2->spacy) (2.1.3)\n",
      "Note: you may need to restart the kernel to use updated packages.\n"
     ]
    },
    {
     "name": "stderr",
     "output_type": "stream",
     "text": [
      "\n",
      "[notice] A new release of pip available: 22.2.2 -> 23.3.1\n",
      "[notice] To update, run: python.exe -m pip install --upgrade pip\n"
     ]
    },
    {
     "name": "stdout",
     "output_type": "stream",
     "text": [
      "Collecting en-core-web-sm==3.7.1\n",
      "  Downloading https://github.com/explosion/spacy-models/releases/download/en_core_web_sm-3.7.1/en_core_web_sm-3.7.1-py3-none-any.whl (12.8 MB)\n",
      "     ---------------------------------------- 12.8/12.8 MB 1.7 MB/s eta 0:00:00\n",
      "Requirement already satisfied: spacy<3.8.0,>=3.7.2 in c:\\projects\\service-document-elasticsearch\\araks_venv\\lib\\site-packages (from en-core-web-sm==3.7.1) (3.7.2)\n",
      "Requirement already satisfied: jinja2 in c:\\projects\\service-document-elasticsearch\\araks_venv\\lib\\site-packages (from spacy<3.8.0,>=3.7.2->en-core-web-sm==3.7.1) (3.1.2)\n",
      "Requirement already satisfied: murmurhash<1.1.0,>=0.28.0 in c:\\projects\\service-document-elasticsearch\\araks_venv\\lib\\site-packages (from spacy<3.8.0,>=3.7.2->en-core-web-sm==3.7.1) (1.0.10)\n",
      "Requirement already satisfied: preshed<3.1.0,>=3.0.2 in c:\\projects\\service-document-elasticsearch\\araks_venv\\lib\\site-packages (from spacy<3.8.0,>=3.7.2->en-core-web-sm==3.7.1) (3.0.9)\n",
      "Requirement already satisfied: catalogue<2.1.0,>=2.0.6 in c:\\projects\\service-document-elasticsearch\\araks_venv\\lib\\site-packages (from spacy<3.8.0,>=3.7.2->en-core-web-sm==3.7.1) (2.0.10)\n",
      "Requirement already satisfied: smart-open<7.0.0,>=5.2.1 in c:\\projects\\service-document-elasticsearch\\araks_venv\\lib\\site-packages (from spacy<3.8.0,>=3.7.2->en-core-web-sm==3.7.1) (6.4.0)\n",
      "Requirement already satisfied: tqdm<5.0.0,>=4.38.0 in c:\\projects\\service-document-elasticsearch\\araks_venv\\lib\\site-packages (from spacy<3.8.0,>=3.7.2->en-core-web-sm==3.7.1) (4.66.1)\n",
      "Requirement already satisfied: setuptools in c:\\projects\\service-document-elasticsearch\\araks_venv\\lib\\site-packages (from spacy<3.8.0,>=3.7.2->en-core-web-sm==3.7.1) (63.2.0)\n",
      "Requirement already satisfied: packaging>=20.0 in c:\\projects\\service-document-elasticsearch\\araks_venv\\lib\\site-packages (from spacy<3.8.0,>=3.7.2->en-core-web-sm==3.7.1) (23.2)\n",
      "Requirement already satisfied: srsly<3.0.0,>=2.4.3 in c:\\projects\\service-document-elasticsearch\\araks_venv\\lib\\site-packages (from spacy<3.8.0,>=3.7.2->en-core-web-sm==3.7.1) (2.4.8)\n",
      "Requirement already satisfied: pydantic!=1.8,!=1.8.1,<3.0.0,>=1.7.4 in c:\\projects\\service-document-elasticsearch\\araks_venv\\lib\\site-packages (from spacy<3.8.0,>=3.7.2->en-core-web-sm==3.7.1) (2.5.2)\n",
      "Requirement already satisfied: wasabi<1.2.0,>=0.9.1 in c:\\projects\\service-document-elasticsearch\\araks_venv\\lib\\site-packages (from spacy<3.8.0,>=3.7.2->en-core-web-sm==3.7.1) (1.1.2)\n",
      "Requirement already satisfied: typer<0.10.0,>=0.3.0 in c:\\projects\\service-document-elasticsearch\\araks_venv\\lib\\site-packages (from spacy<3.8.0,>=3.7.2->en-core-web-sm==3.7.1) (0.9.0)\n",
      "Requirement already satisfied: spacy-legacy<3.1.0,>=3.0.11 in c:\\projects\\service-document-elasticsearch\\araks_venv\\lib\\site-packages (from spacy<3.8.0,>=3.7.2->en-core-web-sm==3.7.1) (3.0.12)\n",
      "Requirement already satisfied: weasel<0.4.0,>=0.1.0 in c:\\projects\\service-document-elasticsearch\\araks_venv\\lib\\site-packages (from spacy<3.8.0,>=3.7.2->en-core-web-sm==3.7.1) (0.3.4)\n",
      "Requirement already satisfied: spacy-loggers<2.0.0,>=1.0.0 in c:\\projects\\service-document-elasticsearch\\araks_venv\\lib\\site-packages (from spacy<3.8.0,>=3.7.2->en-core-web-sm==3.7.1) (1.0.5)\n",
      "Requirement already satisfied: requests<3.0.0,>=2.13.0 in c:\\projects\\service-document-elasticsearch\\araks_venv\\lib\\site-packages (from spacy<3.8.0,>=3.7.2->en-core-web-sm==3.7.1) (2.31.0)\n",
      "Requirement already satisfied: cymem<2.1.0,>=2.0.2 in c:\\projects\\service-document-elasticsearch\\araks_venv\\lib\\site-packages (from spacy<3.8.0,>=3.7.2->en-core-web-sm==3.7.1) (2.0.8)\n",
      "Requirement already satisfied: langcodes<4.0.0,>=3.2.0 in c:\\projects\\service-document-elasticsearch\\araks_venv\\lib\\site-packages (from spacy<3.8.0,>=3.7.2->en-core-web-sm==3.7.1) (3.3.0)\n",
      "Requirement already satisfied: thinc<8.3.0,>=8.1.8 in c:\\projects\\service-document-elasticsearch\\araks_venv\\lib\\site-packages (from spacy<3.8.0,>=3.7.2->en-core-web-sm==3.7.1) (8.2.1)\n",
      "Requirement already satisfied: numpy>=1.19.0 in c:\\projects\\service-document-elasticsearch\\araks_venv\\lib\\site-packages (from spacy<3.8.0,>=3.7.2->en-core-web-sm==3.7.1) (1.26.2)\n",
      "Requirement already satisfied: pydantic-core==2.14.5 in c:\\projects\\service-document-elasticsearch\\araks_venv\\lib\\site-packages (from pydantic!=1.8,!=1.8.1,<3.0.0,>=1.7.4->spacy<3.8.0,>=3.7.2->en-core-web-sm==3.7.1) (2.14.5)\n",
      "Requirement already satisfied: typing-extensions>=4.6.1 in c:\\projects\\service-document-elasticsearch\\araks_venv\\lib\\site-packages (from pydantic!=1.8,!=1.8.1,<3.0.0,>=1.7.4->spacy<3.8.0,>=3.7.2->en-core-web-sm==3.7.1) (4.8.0)\n",
      "Requirement already satisfied: annotated-types>=0.4.0 in c:\\projects\\service-document-elasticsearch\\araks_venv\\lib\\site-packages (from pydantic!=1.8,!=1.8.1,<3.0.0,>=1.7.4->spacy<3.8.0,>=3.7.2->en-core-web-sm==3.7.1) (0.6.0)\n",
      "Requirement already satisfied: certifi>=2017.4.17 in c:\\projects\\service-document-elasticsearch\\araks_venv\\lib\\site-packages (from requests<3.0.0,>=2.13.0->spacy<3.8.0,>=3.7.2->en-core-web-sm==3.7.1) (2023.11.17)\n",
      "Requirement already satisfied: urllib3<3,>=1.21.1 in c:\\projects\\service-document-elasticsearch\\araks_venv\\lib\\site-packages (from requests<3.0.0,>=2.13.0->spacy<3.8.0,>=3.7.2->en-core-web-sm==3.7.1) (2.1.0)\n",
      "Requirement already satisfied: charset-normalizer<4,>=2 in c:\\projects\\service-document-elasticsearch\\araks_venv\\lib\\site-packages (from requests<3.0.0,>=2.13.0->spacy<3.8.0,>=3.7.2->en-core-web-sm==3.7.1) (3.3.2)\n",
      "Requirement already satisfied: idna<4,>=2.5 in c:\\projects\\service-document-elasticsearch\\araks_venv\\lib\\site-packages (from requests<3.0.0,>=2.13.0->spacy<3.8.0,>=3.7.2->en-core-web-sm==3.7.1) (3.6)\n",
      "Requirement already satisfied: blis<0.8.0,>=0.7.8 in c:\\projects\\service-document-elasticsearch\\araks_venv\\lib\\site-packages (from thinc<8.3.0,>=8.1.8->spacy<3.8.0,>=3.7.2->en-core-web-sm==3.7.1) (0.7.11)\n",
      "Requirement already satisfied: confection<1.0.0,>=0.0.1 in c:\\projects\\service-document-elasticsearch\\araks_venv\\lib\\site-packages (from thinc<8.3.0,>=8.1.8->spacy<3.8.0,>=3.7.2->en-core-web-sm==3.7.1) (0.1.4)\n",
      "Requirement already satisfied: colorama in c:\\projects\\service-document-elasticsearch\\araks_venv\\lib\\site-packages (from tqdm<5.0.0,>=4.38.0->spacy<3.8.0,>=3.7.2->en-core-web-sm==3.7.1) (0.4.6)\n",
      "Requirement already satisfied: click<9.0.0,>=7.1.1 in c:\\projects\\service-document-elasticsearch\\araks_venv\\lib\\site-packages (from typer<0.10.0,>=0.3.0->spacy<3.8.0,>=3.7.2->en-core-web-sm==3.7.1) (8.1.7)\n",
      "Requirement already satisfied: cloudpathlib<0.17.0,>=0.7.0 in c:\\projects\\service-document-elasticsearch\\araks_venv\\lib\\site-packages (from weasel<0.4.0,>=0.1.0->spacy<3.8.0,>=3.7.2->en-core-web-sm==3.7.1) (0.16.0)\n",
      "Requirement already satisfied: MarkupSafe>=2.0 in c:\\projects\\service-document-elasticsearch\\araks_venv\\lib\\site-packages (from jinja2->spacy<3.8.0,>=3.7.2->en-core-web-sm==3.7.1) (2.1.3)\n",
      "Installing collected packages: en-core-web-sm\n",
      "Successfully installed en-core-web-sm-3.7.1\n",
      "\u001b[38;5;2m✔ Download and installation successful\u001b[0m\n",
      "You can now load the package via spacy.load('en_core_web_sm')\n"
     ]
    },
    {
     "name": "stderr",
     "output_type": "stream",
     "text": [
      "\n",
      "[notice] A new release of pip available: 22.2.2 -> 23.3.1\n",
      "[notice] To update, run: python.exe -m pip install --upgrade pip\n"
     ]
    }
   ],
   "source": [
    "%pip install fuzzywuzzy spacy\n",
    "!python -m spacy download en_core_web_sm"
   ]
  },
  {
   "cell_type": "code",
   "execution_count": 1,
   "metadata": {},
   "outputs": [
    {
     "name": "stderr",
     "output_type": "stream",
     "text": [
      "c:\\Projects\\service-document-elasticsearch\\araks_venv\\lib\\site-packages\\fuzzywuzzy\\fuzz.py:11: UserWarning: Using slow pure-python SequenceMatcher. Install python-Levenshtein to remove this warning\n",
      "  warnings.warn('Using slow pure-python SequenceMatcher. Install python-Levenshtein to remove this warning')\n"
     ]
    }
   ],
   "source": [
    "from fuzzywuzzy import fuzz\n",
    "import spacy\n",
    "from difflib import SequenceMatcher as SM"
   ]
  },
  {
   "cell_type": "code",
   "execution_count": 27,
   "metadata": {},
   "outputs": [],
   "source": [
    "nlp = spacy.load(\"en_core_web_sm\")"
   ]
  },
  {
   "cell_type": "code",
   "execution_count": 2,
   "metadata": {},
   "outputs": [],
   "source": [
    "async def fuzzy_similar(a, b):\n",
    "    return (fuzz.token_sort_ratio(a, b))"
   ]
  },
  {
   "cell_type": "code",
   "execution_count": 3,
   "metadata": {},
   "outputs": [
    {
     "data": {
      "text/plain": [
       "100"
      ]
     },
     "execution_count": 3,
     "metadata": {},
     "output_type": "execute_result"
    }
   ],
   "source": [
    "await fuzzy_similar('', \"\")"
   ]
  },
  {
   "cell_type": "code",
   "execution_count": 3,
   "metadata": {},
   "outputs": [],
   "source": [
    "async def exact_similar(a, b):\n",
    "    return (sorted(a.lower().split()) == sorted(b.lower().split()))"
   ]
  },
  {
   "cell_type": "code",
   "execution_count": 210,
   "metadata": {},
   "outputs": [],
   "source": [
    "source_props = [\"Danoyan\", \"Yerevan 15 Armenia\"]\n",
    "target_props = [\"15 Yerevan Armenia\", \"Armen Danoyan\"]"
   ]
  },
  {
   "cell_type": "code",
   "execution_count": 211,
   "metadata": {},
   "outputs": [
    {
     "data": {
      "text/plain": [
       "0.750638044548437"
      ]
     },
     "execution_count": 211,
     "metadata": {},
     "output_type": "execute_result"
    }
   ],
   "source": [
    "nlp(source_props[0]).similarity(nlp(target_props[1]))"
   ]
  },
  {
   "cell_type": "code",
   "execution_count": 9,
   "metadata": {},
   "outputs": [],
   "source": [
    "def list_to_str(item):\n",
    "    if type(item) == list and len(item) == 1 and item[0]:\n",
    "            return str(item[0])\n",
    "    else: return str(item)"
   ]
  },
  {
   "cell_type": "code",
   "execution_count": 4,
   "metadata": {},
   "outputs": [],
   "source": [
    "async def match(source, target, method):\n",
    "        if method == \"fuzzy\":\n",
    "                    if type(target[1]) == list and len(target[1]) > 1:\n",
    "                        ratio = max([await fuzzy_similar(list_to_str(source[1]), trg) for trg in target[1]])\n",
    "                    else:\n",
    "                        ratio = await fuzzy_similar(list_to_str(source[1]), target[1])\n",
    "                    if ratio >= 20:\n",
    "                        print(ratio)\n",
    "                        return source[0], target[0]\n",
    "                        \n",
    "        elif method == \"exact\":\n",
    "                    if type(target[1]) == list and len(target[1]) > 1:\n",
    "                        ratio = any([await exact_similar(list_to_str(source[1]), trg) for trg in target[1]])\n",
    "                    else:\n",
    "                        ratio = await exact_similar(list_to_str(source[1]), target[1])\n",
    "                    if ratio:\n",
    "                        return source[0], target[0]"
   ]
  },
  {
   "cell_type": "code",
   "execution_count": 193,
   "metadata": {},
   "outputs": [
    {
     "data": {
      "text/plain": [
       "(12333, 124412515)"
      ]
     },
     "execution_count": 193,
     "metadata": {},
     "output_type": "execute_result"
    }
   ],
   "source": [
    "await match((12333, \"Armenia\"), (124412515, [\"ArmeNia\", \"RUSIA\"]), \"exact\")"
   ]
  },
  {
   "cell_type": "code",
   "execution_count": 112,
   "metadata": {},
   "outputs": [],
   "source": [
    "data = [{\"source\" : [{\"name\" : \"Yerevan 15 Armenia\", \"id\" : 0}], \"target\" : [{\"name\" : \"15 Yerevan Armenia\", \"id\" : 1}], \"method\" : \"fuzzy\"}, {\"source\" : [{\"name\" : \"Danoyan Armen\", \"id\" : 2}], \"target\" : [{\"name\" : \"Armen   Danoyan\", \"id\" : 3}], \"method\" : \"exact\"}]"
   ]
  },
  {
   "cell_type": "code",
   "execution_count": 113,
   "metadata": {},
   "outputs": [],
   "source": [
    "import asyncio\n",
    "\n",
    "async def process_relations(rel_data):\n",
    "    \n",
    "    matched_ids = []\n",
    "    \n",
    "    for rel in rel_data:\n",
    "        sources = rel[\"source\"]\n",
    "        targets = rel[\"target\"]\n",
    "        method = rel[\"method\"]\n",
    "        \n",
    "        tasks = [match(source, target, method) for source in sources for target in targets]\n",
    "        results = await asyncio.gather(*tasks)\n",
    "        \n",
    "        matched_ids.extend(results)\n",
    "    \n",
    "    return matched_ids"
   ]
  },
  {
   "cell_type": "code",
   "execution_count": null,
   "metadata": {},
   "outputs": [],
   "source": [
    "await process_relations(data)"
   ]
  },
  {
   "cell_type": "code",
   "execution_count": 3,
   "metadata": {},
   "outputs": [
    {
     "name": "stdout",
     "output_type": "stream",
     "text": [
      "Collecting psycopg2-binary\n",
      "  Downloading psycopg2_binary-2.9.9-cp310-cp310-win_amd64.whl (1.2 MB)\n",
      "     ---------------------------------------- 1.2/1.2 MB 3.4 MB/s eta 0:00:00\n",
      "Installing collected packages: psycopg2-binary\n",
      "Note: you may need to restart the kernel to use updated packages.\n"
     ]
    },
    {
     "name": "stderr",
     "output_type": "stream",
     "text": [
      "ERROR: Could not install packages due to an OSError: [WinError 5] Access is denied: 'c:\\\\Projects\\\\service-document-elasticsearch\\\\araks_venv\\\\Lib\\\\site-packages\\\\psycopg2\\\\_psycopg.cp310-win_amd64.pyd'\n",
      "Check the permissions.\n",
      "\n",
      "\n",
      "[notice] A new release of pip available: 22.2.2 -> 23.3.1\n",
      "[notice] To update, run: python.exe -m pip install --upgrade pip\n"
     ]
    }
   ],
   "source": [
    "%pip install psycopg2"
   ]
  },
  {
   "cell_type": "code",
   "execution_count": null,
   "metadata": {},
   "outputs": [],
   "source": [
    "{\n",
    "  \"source_id\": \"44f4b7e5-28f4-4023-879f-8d913ea15b74\",\n",
    "  \"target_id\": \"b614a89f-a12d-45d7-9e13-32fce423172f\",\n",
    "  \"source_props\": [\"b614a89f-a12d-45d7-9e13-32fce423172f\", \"b614a89f-a12d-45d7-9e13-32fce423172f\"],\n",
    "  \"source_prop_default\": \"b614a89f-a12d-45d7-9e13-32fce423172f\",\n",
    "  \"target_props\": [\"b614a89f-a12d-45d7-9e13-32fce423172f\", \"b614a89f-a12d-45d7-9e13-32fce423172f\"],\n",
    "  \"target_prop_default\": \"b614a89f-a12d-45d7-9e13-32fce423172f\",\n",
    "  \"methods\": [\"exact\", \"fuzzy\", \"fuzzy\"]\n",
    "}"
   ]
  },
  {
   "cell_type": "code",
   "execution_count": 5,
   "metadata": {},
   "outputs": [],
   "source": [
    "import psycopg2 as ps\n",
    "import os\n",
    "import asyncio"
   ]
  },
  {
   "cell_type": "code",
   "execution_count": 6,
   "metadata": {},
   "outputs": [],
   "source": [
    "type_ids = ['5d107f9f-f8cf-427e-9fd7-52b92bf40ce4', '5d107f9f-f8cf-427e-9fd7-52b92bf40ce4']\n",
    "pntp_ids = {\"source\" : ['7e60664d-0f3b-4a5f-9ac8-5319ee49730f'], \"target\" : ['181536e0-3d75-44f7-8b61-60c43b105b97'], \"methods\" : [\"fuzzy\"]}\n",
    "source_default_prop = '7e60664d-0f3b-4a5f-9ac8-5319ee49730f'\n",
    "target_default_prop = '7e60664d-0f3b-4a5f-9ac8-5319ee49730f'"
   ]
  },
  {
   "cell_type": "code",
   "execution_count": 7,
   "metadata": {},
   "outputs": [],
   "source": [
    "select_deafault_script = \"\"\"SELECT\n",
    "                        np.node_id AS node_id,\n",
    "                        -- pntp.ref_property_type_id AS type,\n",
    "                        -- pntp.name AS key,\n",
    "                        np.nodes_data AS value\n",
    "                        FROM projects_node_type_property AS pntp\n",
    "                        LEFT JOIN(SELECT id, node_id, project_type_property_id, nodes_data FROM node_properties) AS np ON np.project_type_property_id = pntp.id\n",
    "                        WHERE pntp.project_type_id = '{type_id}'\n",
    "                        AND pntp.id = '{property_id}'\n",
    "                        \"\"\"\n",
    "\n",
    "select_props_script = \"SELECT id AS node_id, name AS value from nodes where project_type_id = '{type_id}'\""
   ]
  },
  {
   "cell_type": "code",
   "execution_count": 10,
   "metadata": {},
   "outputs": [
    {
     "name": "stdout",
     "output_type": "stream",
     "text": [
      "25\n",
      "20\n",
      "24\n",
      "21\n",
      "29\n",
      "29\n",
      "24\n",
      "24\n",
      "24\n",
      "25\n"
     ]
    },
    {
     "data": {
      "text/plain": [
       "[('3eeb0142-dee7-4b56-88fe-856ccc96fa55',\n",
       "  'c170d160-9af5-4f2f-bd83-6b1dc3f6807c'),\n",
       " ('1a82b174-5c79-4fdf-b63c-73525e442d40',\n",
       "  'c170d160-9af5-4f2f-bd83-6b1dc3f6807c'),\n",
       " ('6a4b67c2-f425-4a4f-a466-548235bbd6bd',\n",
       "  '3eeb0142-dee7-4b56-88fe-856ccc96fa55'),\n",
       " ('d3588e95-bd20-4037-a65d-f0f9fec84a53',\n",
       "  'c170d160-9af5-4f2f-bd83-6b1dc3f6807c'),\n",
       " ('d3588e95-bd20-4037-a65d-f0f9fec84a53',\n",
       "  'b2ffb875-4657-409c-bd14-0082fb318bfa'),\n",
       " ('d3588e95-bd20-4037-a65d-f0f9fec84a53',\n",
       "  '3eeb0142-dee7-4b56-88fe-856ccc96fa55'),\n",
       " ('2e24a8cc-396a-47f0-b98f-0b58db9db00a',\n",
       "  'b2ffb875-4657-409c-bd14-0082fb318bfa'),\n",
       " ('9fe24d1c-883a-472a-a970-f05adbb59841',\n",
       "  'b2ffb875-4657-409c-bd14-0082fb318bfa'),\n",
       " ('9fe24d1c-883a-472a-a970-f05adbb59841',\n",
       "  '3eeb0142-dee7-4b56-88fe-856ccc96fa55'),\n",
       " ('b2ffb875-4657-409c-bd14-0082fb318bfa',\n",
       "  '6a4b67c2-f425-4a4f-a466-548235bbd6bd')]"
      ]
     },
     "execution_count": 10,
     "metadata": {},
     "output_type": "execute_result"
    }
   ],
   "source": [
    "datas= {}\n",
    "results = []\n",
    "tasks = []\n",
    "conn = ps.connect(dbname=\"araks\", user=\"postgres\",\n",
    "                  password=\"tik555\", port=\"5433\")\n",
    "\n",
    "for i in range(len(pntp_ids['source'])):\n",
    "    \n",
    "    cur = conn.cursor()\n",
    "    \n",
    "    if pntp_ids['source'][i] not in datas:\n",
    "        if source_default_prop == pntp_ids['source'][i]:\n",
    "            cur.execute(select_props_script.format(type_id = type_ids[0]))\n",
    "\n",
    "        else:\n",
    "            cur.execute(select_deafault_script.format(type_id = type_ids[0], property_id = pntp_ids['source'][i]))\n",
    "\n",
    "        datas[pntp_ids['source'][i]] = cur.fetchall()\n",
    "\n",
    "        cur.close()\n",
    "        \n",
    "    cur = conn.cursor()\n",
    "\n",
    "    if pntp_ids['target'][i] not in datas:\n",
    "        if target_default_prop == pntp_ids['target'][i]:\n",
    "             cur.execute(select_props_script.format(type_id = type_ids[1]))\n",
    "\n",
    "        else:\n",
    "            cur.execute(select_deafault_script.format(type_id = type_ids[1], property_id = pntp_ids['target'][i]))\n",
    "        \n",
    "        datas[pntp_ids['target'][i]] = cur.fetchall()\n",
    "\n",
    "        cur.close()\n",
    "\n",
    "    for j, src_item in enumerate(datas[pntp_ids['source'][i]]):\n",
    "        if pntp_ids['source'][i] == pntp_ids['target'][i]:\n",
    "            for trg_item in datas[pntp_ids['target'][i]][j:]:\n",
    "                if src_item[0] != trg_item[0] and (src_item[0], trg_item[0]) not in results and (trg_item[0], src_item[0]) not in results:\n",
    "                    result = tasks.append(await match(src_item, trg_item, pntp_ids['methods'][i]))\n",
    "                    if result:\n",
    "                        results.append(result)\n",
    "        else: \n",
    "            for trg_item in datas[pntp_ids['target'][i]]:\n",
    "                if src_item[0] != trg_item[0] and (src_item[0], trg_item[0]) not in results and (trg_item[0], src_item[0]) not in results:\n",
    "                    result = await match(src_item, trg_item, pntp_ids['methods'][i])\n",
    "                    if result:\n",
    "                        results.append(result)\n",
    "\n",
    "conn.close()\n",
    "datas.clear()\n",
    "results"
   ]
  },
  {
   "cell_type": "code",
   "execution_count": 11,
   "metadata": {},
   "outputs": [
    {
     "name": "stdout",
     "output_type": "stream",
     "text": [
      "25\n",
      "36\n",
      "20\n",
      "24\n",
      "21\n",
      "29\n",
      "29\n",
      "24\n",
      "24\n",
      "24\n",
      "25\n",
      "25\n",
      "25\n",
      "22\n"
     ]
    },
    {
     "data": {
      "text/plain": [
       "[('3eeb0142-dee7-4b56-88fe-856ccc96fa55',\n",
       "  'c170d160-9af5-4f2f-bd83-6b1dc3f6807c'),\n",
       " ('c170d160-9af5-4f2f-bd83-6b1dc3f6807c',\n",
       "  '3eeb0142-dee7-4b56-88fe-856ccc96fa55'),\n",
       " ('1a82b174-5c79-4fdf-b63c-73525e442d40',\n",
       "  'c170d160-9af5-4f2f-bd83-6b1dc3f6807c'),\n",
       " ('6a4b67c2-f425-4a4f-a466-548235bbd6bd',\n",
       "  '3eeb0142-dee7-4b56-88fe-856ccc96fa55'),\n",
       " ('d3588e95-bd20-4037-a65d-f0f9fec84a53',\n",
       "  'c170d160-9af5-4f2f-bd83-6b1dc3f6807c'),\n",
       " ('d3588e95-bd20-4037-a65d-f0f9fec84a53',\n",
       "  'b2ffb875-4657-409c-bd14-0082fb318bfa'),\n",
       " ('d3588e95-bd20-4037-a65d-f0f9fec84a53',\n",
       "  '3eeb0142-dee7-4b56-88fe-856ccc96fa55'),\n",
       " ('2e24a8cc-396a-47f0-b98f-0b58db9db00a',\n",
       "  'b2ffb875-4657-409c-bd14-0082fb318bfa'),\n",
       " ('9fe24d1c-883a-472a-a970-f05adbb59841',\n",
       "  'b2ffb875-4657-409c-bd14-0082fb318bfa'),\n",
       " ('9fe24d1c-883a-472a-a970-f05adbb59841',\n",
       "  '3eeb0142-dee7-4b56-88fe-856ccc96fa55'),\n",
       " ('b2ffb875-4657-409c-bd14-0082fb318bfa',\n",
       "  '6a4b67c2-f425-4a4f-a466-548235bbd6bd'),\n",
       " ('b2ffb875-4657-409c-bd14-0082fb318bfa',\n",
       "  'd3588e95-bd20-4037-a65d-f0f9fec84a53'),\n",
       " ('b2ffb875-4657-409c-bd14-0082fb318bfa',\n",
       "  '2e24a8cc-396a-47f0-b98f-0b58db9db00a'),\n",
       " ('b2ffb875-4657-409c-bd14-0082fb318bfa',\n",
       "  '9fe24d1c-883a-472a-a970-f05adbb59841')]"
      ]
     },
     "execution_count": 11,
     "metadata": {},
     "output_type": "execute_result"
    }
   ],
   "source": [
    "datas= {}\n",
    "tasks = []\n",
    "conn = ps.connect(dbname=\"araks\", user=\"postgres\",\n",
    "                  password=\"tik555\", port=\"5433\")\n",
    "\n",
    "for \n",
    "\n",
    "               \n",
    "# for i in range(len(pntp_ids['source'])):\n",
    "    \n",
    "#     cur = conn.cursor()\n",
    "    \n",
    "#     if pntp_ids['source'][i] not in datas:\n",
    "#         if source_default_prop == pntp_ids['source'][i]:\n",
    "#             cur.execute(select_props_script.format(type_id = type_ids[0]))\n",
    "\n",
    "#         else:\n",
    "#             cur.execute(select_deafault_script.format(type_id = type_ids[0], property_id = pntp_ids['source'][i]))\n",
    "\n",
    "#         datas[pntp_ids['source'][i]] = cur.fetchall()\n",
    "\n",
    "#         cur.close()\n",
    "        \n",
    "#     cur = conn.cursor()\n",
    "\n",
    "#     if pntp_ids['target'][i] not in datas:\n",
    "#         if target_default_prop == pntp_ids['target'][i]:\n",
    "#              cur.execute(select_props_script.format(type_id = type_ids[1]))\n",
    "\n",
    "#         else:\n",
    "#             cur.execute(select_deafault_script.format(type_id = type_ids[1], property_id = pntp_ids['target'][i]))\n",
    "        \n",
    "#         datas[pntp_ids['target'][i]] = cur.fetchall()\n",
    "\n",
    "#         cur.close()\n",
    "\n",
    "#     for j, src_item in enumerate(datas[pntp_ids['source'][i]]):\n",
    "#         if pntp_ids['source'][i] == pntp_ids['target'][i]:\n",
    "#             for trg_item in datas[pntp_ids['target'][i]][j:]:\n",
    "#                 if src_item[0] != trg_item[0]:\n",
    "#                     tasks.append(match(src_item, trg_item, pntp_ids['methods'][i]))\n",
    "#                     # if result:\n",
    "#                     #     results.append(result)\n",
    "#         else: \n",
    "#             for trg_item in datas[pntp_ids['target'][i]]:\n",
    "#                 if src_item[0] != trg_item[0]:\n",
    "#                     tasks.append(match(src_item, trg_item, pntp_ids['methods'][i]))\n",
    "#                     # if result:\n",
    "#                     #     results.append(result)\n",
    "\n",
    "# conn.close()\n",
    "# datas.clear()\n",
    "# results = [value for value in await asyncio.gather(*tasks) if value is not None]\n",
    "results\n",
    "# await remove_duplicates(results)"
   ]
  },
  {
   "cell_type": "code",
   "execution_count": 40,
   "metadata": {},
   "outputs": [],
   "source": [
    "async def remove_duplicates(input_list):\n",
    "    seen = set()\n",
    "    unique_list = []\n",
    "\n",
    "    for item in input_list:\n",
    "        frozen_item = frozenset(item.items())\n",
    "\n",
    "        if frozen_item not in seen:\n",
    "            seen.add(frozen_item)\n",
    "            unique_list.append(item)\n",
    "\n",
    "    return unique_list"
   ]
  },
  {
   "cell_type": "code",
   "execution_count": 144,
   "metadata": {},
   "outputs": [],
   "source": [
    "output = [{'node_id' : item[0], 'prop_id' : item[1], 'prop_names' : item[2]} for node in datas for item in node]"
   ]
  },
  {
   "cell_type": "code",
   "execution_count": 145,
   "metadata": {},
   "outputs": [
    {
     "data": {
      "text/plain": [
       "[{'node_id': '3eeb0142-dee7-4b56-88fe-856ccc96fa55',\n",
       "  'prop_id': '7e60664d-0f3b-4a5f-9ac8-5319ee49730f',\n",
       "  'prop_names': 'Anna'},\n",
       " {'node_id': 'c170d160-9af5-4f2f-bd83-6b1dc3f6807c',\n",
       "  'prop_id': '7e60664d-0f3b-4a5f-9ac8-5319ee49730f',\n",
       "  'prop_names': 'Karen'},\n",
       " {'node_id': '1a82b174-5c79-4fdf-b63c-73525e442d40',\n",
       "  'prop_id': '7e60664d-0f3b-4a5f-9ac8-5319ee49730f',\n",
       "  'prop_names': 'Document Management Sector'},\n",
       " {'node_id': '6a4b67c2-f425-4a4f-a466-548235bbd6bd',\n",
       "  'prop_id': '7e60664d-0f3b-4a5f-9ac8-5319ee49730f',\n",
       "  'prop_names': 'Saved Graph Queries'},\n",
       " {'node_id': 'd3588e95-bd20-4037-a65d-f0f9fec84a53',\n",
       "  'prop_id': '7e60664d-0f3b-4a5f-9ac8-5319ee49730f',\n",
       "  'prop_names': 'Alerting System'},\n",
       " {'node_id': '2e24a8cc-396a-47f0-b98f-0b58db9db00a',\n",
       "  'prop_id': '7e60664d-0f3b-4a5f-9ac8-5319ee49730f',\n",
       "  'prop_names': 'Node-Based Application Forms'},\n",
       " {'node_id': '9fe24d1c-883a-472a-a970-f05adbb59841',\n",
       "  'prop_id': '7e60664d-0f3b-4a5f-9ac8-5319ee49730f',\n",
       "  'prop_names': 'Property-Based Calculations'},\n",
       " {'node_id': 'b2ffb875-4657-409c-bd14-0082fb318bfa',\n",
       "  'prop_id': '7e60664d-0f3b-4a5f-9ac8-5319ee49730f',\n",
       "  'prop_names': 'Ani1789'},\n",
       " {'node_id': 'c170d160-9af5-4f2f-bd83-6b1dc3f6807c',\n",
       "  'prop_id': '181536e0-3d75-44f7-8b61-60c43b105b97',\n",
       "  'prop_names': ['menu']},\n",
       " {'node_id': 'b2ffb875-4657-409c-bd14-0082fb318bfa',\n",
       "  'prop_id': '181536e0-3d75-44f7-8b61-60c43b105b97',\n",
       "  'prop_names': ['slider']},\n",
       " {'node_id': '3eeb0142-dee7-4b56-88fe-856ccc96fa55',\n",
       "  'prop_id': '181536e0-3d75-44f7-8b61-60c43b105b97',\n",
       "  'prop_names': ['header']},\n",
       " {'node_id': '1a82b174-5c79-4fdf-b63c-73525e442d40',\n",
       "  'prop_id': '181536e0-3d75-44f7-8b61-60c43b105b97',\n",
       "  'prop_names': ['6']},\n",
       " {'node_id': '6a4b67c2-f425-4a4f-a466-548235bbd6bd',\n",
       "  'prop_id': '181536e0-3d75-44f7-8b61-60c43b105b97',\n",
       "  'prop_names': ['7']},\n",
       " {'node_id': 'd3588e95-bd20-4037-a65d-f0f9fec84a53',\n",
       "  'prop_id': '181536e0-3d75-44f7-8b61-60c43b105b97',\n",
       "  'prop_names': ['8']},\n",
       " {'node_id': '2e24a8cc-396a-47f0-b98f-0b58db9db00a',\n",
       "  'prop_id': '181536e0-3d75-44f7-8b61-60c43b105b97',\n",
       "  'prop_names': ['9']},\n",
       " {'node_id': '9fe24d1c-883a-472a-a970-f05adbb59841',\n",
       "  'prop_id': '181536e0-3d75-44f7-8b61-60c43b105b97',\n",
       "  'prop_names': ['10']}]"
      ]
     },
     "execution_count": 145,
     "metadata": {},
     "output_type": "execute_result"
    }
   ],
   "source": [
    "output"
   ]
  },
  {
   "cell_type": "code",
   "execution_count": 154,
   "metadata": {},
   "outputs": [
    {
     "ename": "SyntaxError",
     "evalue": "expected 'else' after 'if' expression (2940355803.py, line 2)",
     "output_type": "error",
     "traceback": [
      "\u001b[1;36m  Cell \u001b[1;32mIn[154], line 2\u001b[1;36m\u001b[0m\n\u001b[1;33m    for src_item in [{'name' : out['prop_names'], 'id' : out['node_id']} if out['prop_id'] == pntp_ids['source'][i] for out in output]:\u001b[0m\n\u001b[1;37m                     ^\u001b[0m\n\u001b[1;31mSyntaxError\u001b[0m\u001b[1;31m:\u001b[0m expected 'else' after 'if' expression\n"
     ]
    }
   ],
   "source": [
    "for i in range(len(pntp_ids['source'])):\n",
    "    for src_item in [{'name' : out['prop_names'], 'id' : out['node_id']} if out['prop_id'] == pntp_ids['source'][i] for out in output]:\n",
    "        for out_item in [{'name' : out['prop_names'], 'id' : out['node_id']} if out['prop_id'] == pntp_ids['target'][i] for out in output]:\n",
    "            print(await match(src_item, out_item, pntp_ids['methods'][i]))"
   ]
  },
  {
   "cell_type": "code",
   "execution_count": 11,
   "metadata": {},
   "outputs": [
    {
     "data": {
      "text/plain": [
       "False"
      ]
     },
     "execution_count": 11,
     "metadata": {},
     "output_type": "execute_result"
    }
   ],
   "source": [
    "my_list = [23, 44, 21]\n",
    "all(isinstance(x, int) and 21 <= x <= 100 for x in my_list)"
   ]
  }
 ],
 "metadata": {
  "kernelspec": {
   "display_name": "araks_venv",
   "language": "python",
   "name": "python3"
  },
  "language_info": {
   "codemirror_mode": {
    "name": "ipython",
    "version": 3
   },
   "file_extension": ".py",
   "mimetype": "text/x-python",
   "name": "python",
   "nbconvert_exporter": "python",
   "pygments_lexer": "ipython3",
   "version": "3.10.8"
  }
 },
 "nbformat": 4,
 "nbformat_minor": 2
}
